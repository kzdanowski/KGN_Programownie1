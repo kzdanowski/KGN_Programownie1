{
  "nbformat": 4,
  "nbformat_minor": 0,
  "metadata": {
    "colab": {
      "provenance": [],
      "authorship_tag": "ABX9TyP07NHUKEfiVZ1LfsRxR29G"
    },
    "kernelspec": {
      "name": "python3",
      "display_name": "Python 3"
    },
    "language_info": {
      "name": "python"
    }
  },
  "cells": [
    {
      "cell_type": "markdown",
      "source": [
        "# Różnica między uruchamianiem kodu ze ścieżki, a z konsoli REPL\n",
        "\n",
        "\n",
        "2 różne sposoby uruchamiania Pythona\n",
        "1. Uruchamianie pliku (.py) w terminalu\n",
        "\n",
        "Kiedy wykonujesz:\n",
        "\n",
        "**py ścieżka/do/pliku.py**\n",
        "\n",
        "\n",
        "Python uruchamia cały plik jako program:\n",
        "\n",
        "wykonuje instrukcje od góry do dołu,\n",
        "\n",
        "ma dostęp tylko do tego, co jest w pliku i standardowych bibliotekach,\n",
        "\n",
        "po zakończeniu zamyka program (chyba że wejdziesz interaktywnie po błędzie).\n",
        "\n",
        "To jest tryb skryptowy.\n",
        "\n",
        "2. Python REPL\n",
        "\n",
        "Kiedy wpiszesz po prostu:\n",
        "\n",
        "**py**\n",
        "\n",
        "\n",
        "albo **python** — wchodzisz do REPLa:\n",
        "\n",
        "komputer czeka na pojedyncze linie kodu,\n",
        "\n",
        "każdą od razu wykonuje,\n",
        "\n",
        "stan (zmienne, wartości) zapamiętuje w pamięci na żywo.\n",
        "\n",
        "To jest tryb interaktywny.\n",
        "\n",
        "\n",
        "Dlaczego nie można „uruchomić pliku” z poziomu REPL-a wpisując nazwę pliku?\n",
        "\n",
        "Bo REPL nie jest systemem plików ani konsolą.\n",
        "REPL czeka na kod języka Python, np.:\n",
        "\n",
        "x = 2\n",
        "\n",
        "print(x)\n",
        "\n",
        "\n",
        "Natomiast:\n",
        "\n",
        "C:\\Users\\Programy\\moj_pliki.py\n",
        "\n",
        "\n",
        "to nie jest kod Python, to ścieżka. Python nie wie, co z nią zrobić."
      ],
      "metadata": {
        "id": "eqUTbErz_Pke"
      }
    },
    {
      "cell_type": "markdown",
      "source": [
        "# Zadanie\n",
        "\n",
        "Napisz prosty program w Pythonie (notepad++), który:\n",
        "\n",
        "Po uruchomieniu informuje użytkownika, co robi.\n",
        "\n",
        "Pyta o dowolnie długi ciąg liczb. (Użyj funkji \"input()\"!)\n",
        "\n",
        "Oblicza i wyświetla średnią z podanych liczb.\n",
        "\n",
        "Uruchom ten program w swoim wierszu polecenia."
      ],
      "metadata": {
        "id": "XW-O0bEAMb52"
      }
    },
    {
      "cell_type": "code",
      "source": [
        "# funkcja do liczenia sumy listy intów\n",
        "def suma(n):\n",
        "  s = 0\n",
        "  for i in n:\n",
        "    s += i\n",
        "  return s"
      ],
      "metadata": {
        "id": "IJf4sr-ZT8OR"
      },
      "execution_count": 6,
      "outputs": []
    },
    {
      "cell_type": "code",
      "source": [
        "# funkcja do liczenia długości listy\n",
        "def dlugosc(n):\n",
        "  s = 0\n",
        "  for i in n:\n",
        "    s += 1\n",
        "  return s"
      ],
      "metadata": {
        "id": "xZCJLaaD8aKI"
      },
      "execution_count": 7,
      "outputs": []
    },
    {
      "cell_type": "code",
      "source": [
        "# funkcja licząca średnią arytemtyczną z pomocą funkcji sumy i długości\n",
        "def mean(n):\n",
        "  return suma(n) / dlugosc(n)"
      ],
      "metadata": {
        "id": "VuitF-XE15QC"
      },
      "execution_count": 8,
      "outputs": []
    },
    {
      "cell_type": "code",
      "source": [
        "mean([1,2,3])"
      ],
      "metadata": {
        "colab": {
          "base_uri": "https://localhost:8080/"
        },
        "id": "pnCcbCkl6La6",
        "outputId": "e2e41945-e2a1-4501-ea5e-955d89038aca"
      },
      "execution_count": 9,
      "outputs": [
        {
          "output_type": "execute_result",
          "data": {
            "text/plain": [
              "2.0"
            ]
          },
          "metadata": {},
          "execution_count": 9
        }
      ]
    },
    {
      "cell_type": "code",
      "source": [
        "# funkcja input pobierająca od użytkownika wejściowe wartości\n",
        "x = input(\"podaj liczbę: \")\n",
        "x"
      ],
      "metadata": {
        "colab": {
          "base_uri": "https://localhost:8080/",
          "height": 53
        },
        "id": "gZhzb7b8n4I_",
        "outputId": "0eec8a32-7d3c-42a8-82fa-d598bcf9ebc7"
      },
      "execution_count": null,
      "outputs": [
        {
          "name": "stdout",
          "output_type": "stream",
          "text": [
            "podaj liczbę: h\n"
          ]
        },
        {
          "output_type": "execute_result",
          "data": {
            "text/plain": [
              "'h'"
            ],
            "application/vnd.google.colaboratory.intrinsic+json": {
              "type": "string"
            }
          },
          "metadata": {},
          "execution_count": 23
        }
      ]
    },
    {
      "cell_type": "code",
      "source": [
        "\n",
        "# funkcja input\n",
        "input_str = input(\"Podaj dowolny ciąg liczb oddzielonych przecinkami: \")\n",
        "\n",
        "# \"for comprehension\" sposób definowania listy elementów za pomocą funkcji z użyciem pętli \"for\"\n",
        "# lista \"x\" to lista intów stworzona z inputu, który jest str za pomocą funkcji split z argumentem (','),\n",
        "# który rozdziela str na listę poszczególnych znaków rozdzielonych przecinkami\n",
        "x = [int(num) for num in input_str.split(',')]\n",
        "print(x)\n",
        "print(type(x))\n",
        "print(type(x[0]))"
      ],
      "metadata": {
        "colab": {
          "base_uri": "https://localhost:8080/"
        },
        "id": "j54iZZpyE_My",
        "outputId": "3c3437b4-f207-4a77-f9e5-273915e6a99c"
      },
      "execution_count": 1,
      "outputs": [
        {
          "output_type": "stream",
          "name": "stdout",
          "text": [
            "Podaj dowolny ciąg liczb oddzielonych przecinkami: 1,2,3\n",
            "[1, 2, 3]\n"
          ]
        },
        {
          "output_type": "execute_result",
          "data": {
            "text/plain": [
              "int"
            ]
          },
          "metadata": {},
          "execution_count": 1
        }
      ]
    }
  ]
}