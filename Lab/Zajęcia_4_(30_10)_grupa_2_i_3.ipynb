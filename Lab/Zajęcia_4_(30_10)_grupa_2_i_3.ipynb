{
  "nbformat": 4,
  "nbformat_minor": 0,
  "metadata": {
    "colab": {
      "provenance": [],
      "authorship_tag": "ABX9TyMryU1cq/iwto1H/022qPlD",
      "include_colab_link": true
    },
    "kernelspec": {
      "name": "python3",
      "display_name": "Python 3"
    },
    "language_info": {
      "name": "python"
    }
  },
  "cells": [
    {
      "cell_type": "markdown",
      "metadata": {
        "id": "view-in-github",
        "colab_type": "text"
      },
      "source": [
        "<a href=\"https://colab.research.google.com/github/kzdanowski/KGN_Programownie1/blob/main/Lab/Zaj%C4%99cia_4_(30_10)_grupa_2_i_3.ipynb\" target=\"_parent\"><img src=\"https://colab.research.google.com/assets/colab-badge.svg\" alt=\"Open In Colab\"/></a>"
      ]
    },
    {
      "cell_type": "code",
      "execution_count": 3,
      "metadata": {
        "colab": {
          "base_uri": "https://localhost:8080/"
        },
        "id": "h79ctLbhWBqA",
        "outputId": "7d0d304c-3095-497d-a187-d16766a23214"
      },
      "outputs": [
        {
          "output_type": "stream",
          "name": "stdout",
          "text": [
            "print\n"
          ]
        }
      ],
      "source": [
        "# zrób tak żeby to wyrażanie działało\n",
        "\n",
        "HelloWorld(\"print\")"
      ]
    },
    {
      "cell_type": "code",
      "source": [
        "# dzelenie list, tupli, str\n",
        "\n",
        "# x = 'programowanie1'\n",
        "# x = (1,2,3,4,5)\n",
        "x = [1,2,3,4,5]\n",
        "print(x[0])\n",
        "print(x[:3])\n",
        "print(x[3:])\n",
        "print(x[1:3])\n",
        "print(x[0:4:2])\n",
        "print(x[-1])\n",
        "print(x[-2])\n",
        "print(x[::-1])\n"
      ],
      "metadata": {
        "colab": {
          "base_uri": "https://localhost:8080/"
        },
        "id": "cJxqSSB-WiuD",
        "outputId": "1f7da867-0432-4c5d-bbdd-4309b1a27289"
      },
      "execution_count": 34,
      "outputs": [
        {
          "output_type": "stream",
          "name": "stdout",
          "text": [
            "1\n",
            "[1, 2, 3]\n",
            "[4, 5]\n",
            "[2, 3]\n",
            "[1, 3]\n",
            "5\n",
            "4\n",
            "[5, 4, 3, 2, 1]\n"
          ]
        }
      ]
    },
    {
      "cell_type": "code",
      "source": [
        "# napisz funkcję zwracającą str od tyłu\n",
        "def odwrotnie(n):\n",
        "\n"
      ],
      "metadata": {
        "colab": {
          "base_uri": "https://localhost:8080/"
        },
        "id": "rmnrQHAJXmIg",
        "outputId": "66e8ba81-e500-4c28-fe08-3cad248910db"
      },
      "execution_count": 10,
      "outputs": [
        {
          "output_type": "execute_result",
          "data": {
            "text/plain": [
              "(4, 3, 2, 1)"
            ]
          },
          "metadata": {},
          "execution_count": 10
        }
      ]
    },
    {
      "cell_type": "code",
      "source": [
        "# napisz funkję sprawdzającą czy str jest palindromem\n",
        "def palindrom(s):\n",
        ""
      ],
      "metadata": {
        "id": "nx5Y3gWaYh7x"
      },
      "execution_count": null,
      "outputs": []
    },
    {
      "cell_type": "code",
      "source": [
        "# napisz funkcję zwracającą największy int z listy\n",
        "def maximum(n):\n",
        "\n"
      ],
      "metadata": {
        "id": "xJIt_-6RY3gU"
      },
      "execution_count": 13,
      "outputs": []
    },
    {
      "cell_type": "code",
      "source": [
        "# napisz funkcję zwracającą najmniejszy int z listy\n",
        "def minimum(n):\n",
        "\n"
      ],
      "metadata": {
        "id": "gdXLso46asHI"
      },
      "execution_count": 15,
      "outputs": []
    },
    {
      "cell_type": "code",
      "source": [
        "# napisz fukcję sprawdzającą czy lista jest uporządkowana od najmniejszej do największej\n",
        "\n",
        "def czy_posortowana(n):\n",
        "\n"
      ],
      "metadata": {
        "colab": {
          "base_uri": "https://localhost:8080/"
        },
        "id": "9d-Lv41tbXWR",
        "outputId": "ccbe71dd-b73c-43d3-edba-7ce771d1df64"
      },
      "execution_count": 30,
      "outputs": [
        {
          "output_type": "execute_result",
          "data": {
            "text/plain": [
              "False"
            ]
          },
          "metadata": {},
          "execution_count": 30
        }
      ]
    }
  ]
}