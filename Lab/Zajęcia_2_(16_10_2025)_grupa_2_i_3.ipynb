{
  "nbformat": 4,
  "nbformat_minor": 0,
  "metadata": {
    "colab": {
      "provenance": [],
      "authorship_tag": "ABX9TyOEmUG73ga8MjifnHQamLPG"
    },
    "kernelspec": {
      "name": "python3",
      "display_name": "Python 3"
    },
    "language_info": {
      "name": "python"
    }
  },
  "cells": [
    {
      "cell_type": "markdown",
      "source": [
        "# Zajęcia 2 (16.10.2025) grupa 2 i 3"
      ],
      "metadata": {
        "id": "1mjXWZMT286Y"
      }
    },
    {
      "cell_type": "markdown",
      "source": [
        "# Jak napisać funkcję \"czy_pierwsza\"\n",
        "1. Zacznij od definicji funkcji\n",
        "2. Liczby 0 i 1 nie są pierwsze, więc jeśli n < 2, od razu zwróć False. Użyj polecenia \"if\".\n",
        "3. Ustal zakres dzielników, które chcesz sprawdzić. Użyj polecenia \"for\"\n",
        "Nie musisz sprawdzać wszystkich liczb aż do n-1.\n",
        "Wystarczy sprawdzać od 2 do pierwiastka z n włącznie,\n",
        "bo jeśli n ma jakiś dzielnik większy od √n (n**0.5), to mniejszy też już musiał się pojawić.\n",
        "Użyj funkcji range()\n",
        "4. Sprawdź, czy n dzieli się bez reszty przez i.\n",
        "Jeśli tak — oznacza to, że n nie jest liczbą pierwszą.\n",
        "Jeśli żaden dzielnik się nie znalazł, liczba jest pierwsza.\n",
        "Po zakończeniu pętli zwróć True."
      ],
      "metadata": {
        "id": "zC_oeJ3bSbzr"
      }
    },
    {
      "cell_type": "code",
      "source": [
        "def czy_pierwsza(n):\n",
        "    if n < 2:\n",
        "        return False\n",
        "    for i in range(2, int(n**0.5)+1):\n",
        "        if n % i == 0:\n",
        "            return False\n",
        "    return True"
      ],
      "metadata": {
        "id": "Vm854MjozbbK"
      },
      "execution_count": null,
      "outputs": []
    },
    {
      "cell_type": "code",
      "source": [
        "czy_pierwsza(2)"
      ],
      "metadata": {
        "colab": {
          "base_uri": "https://localhost:8080/"
        },
        "id": "S735kiEM0PCa",
        "outputId": "d04ca286-e395-4b0f-e088-cc04cc5db3ac"
      },
      "execution_count": null,
      "outputs": [
        {
          "output_type": "execute_result",
          "data": {
            "text/plain": [
              "True"
            ]
          },
          "metadata": {},
          "execution_count": 2
        }
      ]
    },
    {
      "cell_type": "code",
      "source": [],
      "metadata": {
        "id": "s9Ys_5brbV1F"
      },
      "execution_count": null,
      "outputs": []
    },
    {
      "cell_type": "code",
      "source": [
        "def wypisz_n_liczb_pierwszych(n):\n",
        "    liczba = 2\n",
        "    znalezione = 0\n",
        "    while znalezione < n:\n",
        "        if czy_pierwsza(liczba):\n",
        "            print(liczba, end=\" \")\n",
        "            znalezione += 1\n",
        "        liczba += 1\n",
        "\n",
        "wypisz_n_liczb_pierwszych(5)"
      ],
      "metadata": {
        "id": "Ums4qQ-Mnbj4",
        "colab": {
          "base_uri": "https://localhost:8080/"
        },
        "outputId": "82b769b9-d219-429a-d96c-c4af650e9bc0"
      },
      "execution_count": null,
      "outputs": [
        {
          "output_type": "stream",
          "name": "stdout",
          "text": [
            "2 3 5 7 11 "
          ]
        }
      ]
    },
    {
      "cell_type": "markdown",
      "source": [
        "#   Funkcja rozkładu na czynniki pierwsze\n",
        "\n",
        "1. Zacznij od definicji funkcji.\n",
        "2. Utwórz pustą listę na czynniki.\n",
        "3. Zdefiniuj zmienną oznaczającą najmniejszy możliwy dzielnik — 2\n",
        "4. Pętla główna: sprawdzaj dzielniki tylko do √n.\n",
        "\n",
        "    Warunek d * d <= n jest równoważny d <= sqrt(n), ale używamy mnożenia (szybsze i dokładne dla intów).\n",
        "\n",
        "    Dzięki temu nie sprawdzasz dzielników większych niż pierwiastek z aktualnego n — efektywność wzrasta.\n",
        "\n",
        "5. Pętla wewnętrzna: usuwaj wszystkie wystąpienia dzielnika d.\n",
        "\n",
        "    n % d == 0 sprawdza, czy d dzieli n bez reszty.\n",
        "    \n",
        "    Jeśli tak: dodajesz d do listy czynników i dzielisz n przez d używając dzielenia całkowitego //=, co usuwa jedno wystąpienie tego czynnika (np. dla 8 i d=2 pętla wykona się 3 razy, dopisując trzy dwójki).\n",
        "    \n",
        "    Pętla wewnętrzna powtarza się aż d przestanie dzielić n — w ten sposób usuwasz wszystkie potęgi d.\n",
        "\n",
        "6. Przejdź do następnego możliwego dzielnika.\n",
        "\n",
        "7. Po pętli: jeśli pozostała liczba > 1, to jest to czynnik pierwszy.\n",
        "\n",
        "8. Zwróć listę czynników\n",
        "\n",
        "### Uwaga\n",
        "\n",
        "    Pętla ograniczona do d * d <= n sprawia, że sprawdzasz mniej dzielników niż prosta wersja „i += 1 aż do n”, co daje znaczną poprawę wydajności dla większych n.\n",
        "    \n",
        "    Usuwanie wszystkich potęg d w pętli wewnętrznej (zamiast tylko jednego wystąpienia) oznacza, że n szybko maleje, a warunek d*d <= n często staje się fałszem wcześniej.\n",
        "    \n",
        "    Finalny warunek if n > 1 obsługuje sytuację, gdy po usunięciu wszystkich małych czynników pozostaje duży czynnik pierwszy (np. dla n=97 — 97 zostanie dopisane na końcu).\n",
        "\n",
        "**Porównaj z funkcją: prostszy_rozkład_na_czynniki_pierwsze**"
      ],
      "metadata": {
        "id": "jb0x4acXWpzD"
      }
    },
    {
      "cell_type": "code",
      "source": [
        "def rozklad_na_czynniki_pierwsze(n):\n",
        "    czynniki = []\n",
        "    d = 2\n",
        "    while d * d <= n:\n",
        "      while (n % d) == 0:\n",
        "          czynniki.append(d)\n",
        "          n //= d\n",
        "      d += 1\n",
        "    if n > 1:\n",
        "        czynniki.append(n)\n",
        "    return czynniki"
      ],
      "metadata": {
        "id": "iPXl-IVMY-60"
      },
      "execution_count": null,
      "outputs": []
    },
    {
      "cell_type": "code",
      "source": [
        "def prostszy_rozkład_na_czynniki_pierwsze(n):\n",
        "    czynniki = []\n",
        "    i = 2\n",
        "    while n > 1:\n",
        "        if n % i == 0:\n",
        "            czynniki.append(i)\n",
        "            n = n // i\n",
        "        else:\n",
        "            i += 1\n",
        "    return czynniki"
      ],
      "metadata": {
        "id": "8n3zaY-P2id3"
      },
      "execution_count": 1,
      "outputs": []
    },
    {
      "cell_type": "code",
      "source": [
        "rozklad_na_czynniki_pierwsze(45)"
      ],
      "metadata": {
        "colab": {
          "base_uri": "https://localhost:8080/"
        },
        "id": "8mbzSwKwZTpI",
        "outputId": "c3f25bbf-b60d-4018-884d-688c4a77a2e5"
      },
      "execution_count": null,
      "outputs": [
        {
          "output_type": "execute_result",
          "data": {
            "text/plain": [
              "[3, 3, 5]"
            ]
          },
          "metadata": {},
          "execution_count": 105
        }
      ]
    },
    {
      "cell_type": "code",
      "source": [
        "prostszy_rozkład_na_czynniki_pierwsze(45)"
      ],
      "metadata": {
        "colab": {
          "base_uri": "https://localhost:8080/"
        },
        "id": "ibUwf18u2vBJ",
        "outputId": "0799d81d-df67-48b2-f870-75aa99bcce55"
      },
      "execution_count": 2,
      "outputs": [
        {
          "output_type": "execute_result",
          "data": {
            "text/plain": [
              "[3, 3, 5]"
            ]
          },
          "metadata": {},
          "execution_count": 2
        }
      ]
    },
    {
      "cell_type": "markdown",
      "source": [
        "# Funkcja NWD - największy wspólny dzielnik (algorytm Euklidesa)\n",
        "\n",
        "1. Zacznij od definicji funkcji\n",
        "2. Zrozum zasadę działania algorytmu Euklidesa\n",
        "Algorytm opiera się na prostej zależności:\n",
        "NWD(a, b) = NWD(b, a % b)\n",
        "(czyli największy wspólny dzielnik dwóch liczb nie zmienia się, jeśli większą liczbę zastąpimy resztą z dzielenia).\n",
        "Powtarzamy to aż do momentu, gdy jedna z liczb stanie się zerem — wtedy druga jest wynikiem. Użyj pętli \"while\".\n",
        "\n",
        "3. Kiedy pętla się skończy, \"a\" będzie NWD\n",
        "Gdy \"b\" stanie się 0, wystarczy zwrócić \"a\".\n"
      ],
      "metadata": {
        "id": "2tdAlmORUgEs"
      }
    },
    {
      "cell_type": "markdown",
      "source": [
        "| Iteracja | a  | b  | a % b |\n",
        "| -------- | -- | -- | ----- |\n",
        "| 1        | 24 | 36 | 24    |\n",
        "| 2        | 36 | 24 | 12    |\n",
        "| 3        | 24 | 12 | 0     |\n",
        "|4         | 12 | 0  |       |\n"
      ],
      "metadata": {
        "id": "n0h6py3YVaEz"
      }
    },
    {
      "cell_type": "code",
      "source": [
        "def nwd(a, b):\n",
        "    while b:\n",
        "      r = a % b\n",
        "      a = b\n",
        "      b = r\n",
        "      # a, b = b, a % b\n",
        "    return a"
      ],
      "metadata": {
        "id": "l0X1RNhqgqQY"
      },
      "execution_count": null,
      "outputs": []
    },
    {
      "cell_type": "code",
      "source": [
        "nwd(24, 36)"
      ],
      "metadata": {
        "colab": {
          "base_uri": "https://localhost:8080/"
        },
        "id": "_BYxQKcEVgp_",
        "outputId": "567c2b03-4a4d-4698-99b9-0436faf8eeb6"
      },
      "execution_count": null,
      "outputs": [
        {
          "output_type": "execute_result",
          "data": {
            "text/plain": [
              "12"
            ]
          },
          "metadata": {},
          "execution_count": 5
        }
      ]
    }
  ]
}